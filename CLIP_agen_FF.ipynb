{
  "cells": [
    {
      "cell_type": "code",
      "source": [
        "model='ViT-B/32'"
      ],
      "metadata": {
        "id": "ImHMuWeXO_la"
      },
      "execution_count": null,
      "outputs": []
    },
    {
      "cell_type": "code",
      "source": [
        "excel_path = f\"/content/CLIP_Fairface_agen_b32.xlsx\""
      ],
      "metadata": {
        "id": "d53GKYRzPBu-"
      },
      "execution_count": null,
      "outputs": []
    },
    {
      "cell_type": "markdown",
      "metadata": {
        "id": "1TXW1o41abFZ"
      },
      "source": [
        "## Preamble and setup"
      ]
    },
    {
      "cell_type": "code",
      "execution_count": null,
      "metadata": {
        "colab": {
          "base_uri": "https://localhost:8080/"
        },
        "id": "EytvheGNWfsS",
        "outputId": "c36e2162-78f6-44b4-9a9b-2a57cb668ff1"
      },
      "outputs": [
        {
          "output_type": "stream",
          "name": "stdout",
          "text": [
            "\u001b[33m  WARNING: Did not find branch or tag '8cad3a7', assuming revision or ref.\u001b[0m\u001b[33m\n",
            "\u001b[0m  Preparing metadata (setup.py) ... \u001b[?25l\u001b[?25hdone\n",
            "  Installing build dependencies ... \u001b[?25l\u001b[?25hdone\n",
            "  Getting requirements to build wheel ... \u001b[?25l\u001b[?25hdone\n",
            "  \u001b[1;31merror\u001b[0m: \u001b[1msubprocess-exited-with-error\u001b[0m\n",
            "  \n",
            "  \u001b[31m×\u001b[0m \u001b[32mPreparing metadata \u001b[0m\u001b[1;32m(\u001b[0m\u001b[32mpyproject.toml\u001b[0m\u001b[1;32m)\u001b[0m did not run successfully.\n",
            "  \u001b[31m│\u001b[0m exit code: \u001b[1;36m1\u001b[0m\n",
            "  \u001b[31m╰─>\u001b[0m See above for output.\n",
            "  \n",
            "  \u001b[1;35mnote\u001b[0m: This error originates from a subprocess, and is likely not a problem with pip.\n",
            "  Preparing metadata (pyproject.toml) ... \u001b[?25l\u001b[?25herror\n",
            "\u001b[1;31merror\u001b[0m: \u001b[1mmetadata-generation-failed\u001b[0m\n",
            "\n",
            "\u001b[31m×\u001b[0m Encountered error while generating package metadata.\n",
            "\u001b[31m╰─>\u001b[0m See above for output.\n",
            "\n",
            "\u001b[1;35mnote\u001b[0m: This is an issue with the package mentioned above, not pip.\n",
            "\u001b[1;36mhint\u001b[0m: See above for details.\n"
          ]
        }
      ],
      "source": [
        "!pip install -q --upgrade scikit-learn==0.24.2 datasets git+https://github.com/openai/CLIP.git@8cad3a7#egg=clip"
      ]
    },
    {
      "cell_type": "code",
      "execution_count": null,
      "metadata": {
        "colab": {
          "base_uri": "https://localhost:8080/"
        },
        "id": "vUWQfEIf6LB3",
        "outputId": "5d12aab0-4407-4fd7-ecfd-5ba4c1e5954c"
      },
      "outputs": [
        {
          "output_type": "stream",
          "name": "stdout",
          "text": [
            "Requirement already satisfied: datasets in /usr/local/lib/python3.10/dist-packages (3.2.0)\n",
            "Requirement already satisfied: filelock in /usr/local/lib/python3.10/dist-packages (from datasets) (3.16.1)\n",
            "Requirement already satisfied: numpy>=1.17 in /usr/local/lib/python3.10/dist-packages (from datasets) (1.26.4)\n",
            "Requirement already satisfied: pyarrow>=15.0.0 in /usr/local/lib/python3.10/dist-packages (from datasets) (17.0.0)\n",
            "Requirement already satisfied: dill<0.3.9,>=0.3.0 in /usr/local/lib/python3.10/dist-packages (from datasets) (0.3.8)\n",
            "Requirement already satisfied: pandas in /usr/local/lib/python3.10/dist-packages (from datasets) (2.2.2)\n",
            "Requirement already satisfied: requests>=2.32.2 in /usr/local/lib/python3.10/dist-packages (from datasets) (2.32.3)\n",
            "Requirement already satisfied: tqdm>=4.66.3 in /usr/local/lib/python3.10/dist-packages (from datasets) (4.67.1)\n",
            "Requirement already satisfied: xxhash in /usr/local/lib/python3.10/dist-packages (from datasets) (3.5.0)\n",
            "Requirement already satisfied: multiprocess<0.70.17 in /usr/local/lib/python3.10/dist-packages (from datasets) (0.70.16)\n",
            "Requirement already satisfied: fsspec<=2024.9.0,>=2023.1.0 in /usr/local/lib/python3.10/dist-packages (from fsspec[http]<=2024.9.0,>=2023.1.0->datasets) (2024.9.0)\n",
            "Requirement already satisfied: aiohttp in /usr/local/lib/python3.10/dist-packages (from datasets) (3.11.10)\n",
            "Requirement already satisfied: huggingface-hub>=0.23.0 in /usr/local/lib/python3.10/dist-packages (from datasets) (0.27.0)\n",
            "Requirement already satisfied: packaging in /usr/local/lib/python3.10/dist-packages (from datasets) (24.2)\n",
            "Requirement already satisfied: pyyaml>=5.1 in /usr/local/lib/python3.10/dist-packages (from datasets) (6.0.2)\n",
            "Requirement already satisfied: aiohappyeyeballs>=2.3.0 in /usr/local/lib/python3.10/dist-packages (from aiohttp->datasets) (2.4.4)\n",
            "Requirement already satisfied: aiosignal>=1.1.2 in /usr/local/lib/python3.10/dist-packages (from aiohttp->datasets) (1.3.2)\n",
            "Requirement already satisfied: async-timeout<6.0,>=4.0 in /usr/local/lib/python3.10/dist-packages (from aiohttp->datasets) (4.0.3)\n",
            "Requirement already satisfied: attrs>=17.3.0 in /usr/local/lib/python3.10/dist-packages (from aiohttp->datasets) (24.3.0)\n",
            "Requirement already satisfied: frozenlist>=1.1.1 in /usr/local/lib/python3.10/dist-packages (from aiohttp->datasets) (1.5.0)\n",
            "Requirement already satisfied: multidict<7.0,>=4.5 in /usr/local/lib/python3.10/dist-packages (from aiohttp->datasets) (6.1.0)\n",
            "Requirement already satisfied: propcache>=0.2.0 in /usr/local/lib/python3.10/dist-packages (from aiohttp->datasets) (0.2.1)\n",
            "Requirement already satisfied: yarl<2.0,>=1.17.0 in /usr/local/lib/python3.10/dist-packages (from aiohttp->datasets) (1.18.3)\n",
            "Requirement already satisfied: typing-extensions>=3.7.4.3 in /usr/local/lib/python3.10/dist-packages (from huggingface-hub>=0.23.0->datasets) (4.12.2)\n",
            "Requirement already satisfied: charset-normalizer<4,>=2 in /usr/local/lib/python3.10/dist-packages (from requests>=2.32.2->datasets) (3.4.0)\n",
            "Requirement already satisfied: idna<4,>=2.5 in /usr/local/lib/python3.10/dist-packages (from requests>=2.32.2->datasets) (3.10)\n",
            "Requirement already satisfied: urllib3<3,>=1.21.1 in /usr/local/lib/python3.10/dist-packages (from requests>=2.32.2->datasets) (2.2.3)\n",
            "Requirement already satisfied: certifi>=2017.4.17 in /usr/local/lib/python3.10/dist-packages (from requests>=2.32.2->datasets) (2024.12.14)\n",
            "Requirement already satisfied: python-dateutil>=2.8.2 in /usr/local/lib/python3.10/dist-packages (from pandas->datasets) (2.8.2)\n",
            "Requirement already satisfied: pytz>=2020.1 in /usr/local/lib/python3.10/dist-packages (from pandas->datasets) (2024.2)\n",
            "Requirement already satisfied: tzdata>=2022.7 in /usr/local/lib/python3.10/dist-packages (from pandas->datasets) (2024.2)\n",
            "Requirement already satisfied: six>=1.5 in /usr/local/lib/python3.10/dist-packages (from python-dateutil>=2.8.2->pandas->datasets) (1.17.0)\n"
          ]
        }
      ],
      "source": [
        "!pip install datasets"
      ]
    },
    {
      "cell_type": "code",
      "execution_count": null,
      "metadata": {
        "id": "Iozthtw66ZCo"
      },
      "outputs": [],
      "source": [
        "#!pip install clip"
      ]
    },
    {
      "cell_type": "code",
      "execution_count": null,
      "metadata": {
        "id": "3t9icXBaYMoE"
      },
      "outputs": [],
      "source": [
        "from io import BytesIO\n",
        "\n",
        "#import clip\n",
        "import datasets\n",
        "from matplotlib import pyplot as plt\n",
        "import pandas as pd\n",
        "from PIL import Image\n",
        "from sklearn.metrics import confusion_matrix, ConfusionMatrixDisplay\n",
        "import torch\n",
        "from tqdm.notebook import tqdm"
      ]
    },
    {
      "cell_type": "markdown",
      "metadata": {
        "id": "0dj8uKFnoTOj"
      },
      "source": [
        "## FairFace Dataset\n",
        "\n",
        "Downloading the [FairFace dataset](https://github.com/joojs/fairface) from a notebook is cumbersome, so instead we load the dataset from [HuggingFace Datasets](https://huggingface.co/datasets/nateraw/fairface).\n",
        "\n",
        "On locally run code we have seen no meaningful differences in results when the manually downloaded dataset is used."
      ]
    },
    {
      "cell_type": "code",
      "execution_count": null,
      "metadata": {
        "id": "b9cB1fv8WQ4S"
      },
      "outputs": [],
      "source": [
        "def bytes_to_pil(example_batch):\n",
        "    \"\"\"Convert image bytes into a PIL image.\n",
        "\n",
        "   # Taken from the example in https://huggingface.co/datasets/HuggingFaceM4/FairFace\"\"\"\n",
        "    #example_batch['img'] = [\n",
        "    #    Image.open(BytesIO(b)) for b in example_batch.pop('img_bytes')\n",
        "   # ]\n",
        "    return example_batch\n",
        "\n",
        "fairface = datasets.load_dataset('HuggingFaceM4/FairFace','0.25')\n",
        "#fairface = fairface.with_transform(bytes_to_pil)\n",
        "\n",
        "split = 'validation'\n",
        "fairface = fairface[split]"
      ]
    },
    {
      "cell_type": "code",
      "execution_count": null,
      "metadata": {
        "id": "S_79EvYlq_OT"
      },
      "outputs": [],
      "source": [
        "! pip install transformers datasets --quiet"
      ]
    },
    {
      "cell_type": "markdown",
      "metadata": {
        "id": "wlMEMiuHV7Qy"
      },
      "source": [
        "Example from the dataset:"
      ]
    },
    {
      "cell_type": "code",
      "execution_count": null,
      "metadata": {
        "id": "e4oRatkCQIIf"
      },
      "outputs": [],
      "source": [
        "#fairface[0]"
      ]
    },
    {
      "cell_type": "code",
      "execution_count": null,
      "metadata": {
        "id": "V4DkoHjzWUl-"
      },
      "outputs": [],
      "source": [
        "#fairface"
      ]
    },
    {
      "cell_type": "code",
      "execution_count": null,
      "metadata": {
        "colab": {
          "base_uri": "https://localhost:8080/",
          "height": 279
        },
        "id": "AQeYEQ67V5LU",
        "outputId": "d428e0c1-f8d3-4ea7-b0c7-6a36bed48188"
      },
      "outputs": [
        {
          "output_type": "stream",
          "name": "stdout",
          "text": [
            "{'image': <PIL.JpegImagePlugin.JpegImageFile image mode=RGB size=224x224 at 0x7955638411B0>, 'age': 1, 'gender': 0, 'race': 0, 'service_test': False}\n"
          ]
        },
        {
          "output_type": "execute_result",
          "data": {
            "text/plain": [
              "<PIL.JpegImagePlugin.JpegImageFile image mode=RGB size=224x224>"
            ],
            "image/png": "[encoded data removed]",
            "image/jpeg": "[encoded data removed]"
          },
          "metadata": {},
          "execution_count": 42
        }
      ],
      "source": [
        "print(fairface[0])\n",
        "fairface[0]['image']\n",
        "#image = Image.open(BytesIO(fairface[0]['image']))\n",
        "#image.show()"
      ]
    },
    {
      "cell_type": "markdown",
      "metadata": {
        "id": "zjdSqiSJqB4c"
      },
      "source": [
        "## OpenAI CLIP setup for zero-shot classification"
      ]
    },
    {
      "cell_type": "code",
      "execution_count": null,
      "metadata": {
        "id": "F_GDadfXh8LB"
      },
      "outputs": [],
      "source": [
        "#!pip install clip-by-openai"
      ]
    },
    {
      "cell_type": "code",
      "execution_count": null,
      "metadata": {
        "id": "pfB-1W1PoG7C"
      },
      "outputs": [],
      "source": [
        "#! pip uninstall clip"
      ]
    },
    {
      "cell_type": "code",
      "execution_count": null,
      "metadata": {
        "id": "Sj66vd8iiR5L"
      },
      "outputs": [],
      "source": [
        "#!pip install openai-clip"
      ]
    },
    {
      "cell_type": "code",
      "execution_count": null,
      "metadata": {
        "id": "CxA8yK2Boj6_",
        "colab": {
          "base_uri": "https://localhost:8080/"
        },
        "outputId": "2f05b55e-072f-403a-a933-80f44fb6b974"
      },
      "outputs": [
        {
          "output_type": "stream",
          "name": "stdout",
          "text": [
            "Collecting git+https://github.com/openai/CLIP.git\n",
            "  Cloning https://github.com/openai/CLIP.git to /tmp/pip-req-build-ur9f2eng\n",
            "  Running command git clone --filter=blob:none --quiet https://github.com/openai/CLIP.git /tmp/pip-req-build-ur9f2eng\n",
            "  Resolved https://github.com/openai/CLIP.git to commit dcba3cb2e2827b402d2701e7e1c7d9fed8a20ef1\n",
            "  Preparing metadata (setup.py) ... \u001b[?25l\u001b[?25hdone\n",
            "Requirement already satisfied: ftfy in /usr/local/lib/python3.10/dist-packages (from clip==1.0) (6.3.1)\n",
            "Requirement already satisfied: packaging in /usr/local/lib/python3.10/dist-packages (from clip==1.0) (24.2)\n",
            "Requirement already satisfied: regex in /usr/local/lib/python3.10/dist-packages (from clip==1.0) (2024.11.6)\n",
            "Requirement already satisfied: tqdm in /usr/local/lib/python3.10/dist-packages (from clip==1.0) (4.67.1)\n",
            "Requirement already satisfied: torch in /usr/local/lib/python3.10/dist-packages (from clip==1.0) (2.5.1+cu121)\n",
            "Requirement already satisfied: torchvision in /usr/local/lib/python3.10/dist-packages (from clip==1.0) (0.20.1+cu121)\n",
            "Requirement already satisfied: wcwidth in /usr/local/lib/python3.10/dist-packages (from ftfy->clip==1.0) (0.2.13)\n",
            "Requirement already satisfied: filelock in /usr/local/lib/python3.10/dist-packages (from torch->clip==1.0) (3.16.1)\n",
            "Requirement already satisfied: typing-extensions>=4.8.0 in /usr/local/lib/python3.10/dist-packages (from torch->clip==1.0) (4.12.2)\n",
            "Requirement already satisfied: networkx in /usr/local/lib/python3.10/dist-packages (from torch->clip==1.0) (3.4.2)\n",
            "Requirement already satisfied: jinja2 in /usr/local/lib/python3.10/dist-packages (from torch->clip==1.0) (3.1.4)\n",
            "Requirement already satisfied: fsspec in /usr/local/lib/python3.10/dist-packages (from torch->clip==1.0) (2024.9.0)\n",
            "Requirement already satisfied: sympy==1.13.1 in /usr/local/lib/python3.10/dist-packages (from torch->clip==1.0) (1.13.1)\n",
            "Requirement already satisfied: mpmath<1.4,>=1.1.0 in /usr/local/lib/python3.10/dist-packages (from sympy==1.13.1->torch->clip==1.0) (1.3.0)\n",
            "Requirement already satisfied: numpy in /usr/local/lib/python3.10/dist-packages (from torchvision->clip==1.0) (1.26.4)\n",
            "Requirement already satisfied: pillow!=8.3.*,>=5.3.0 in /usr/local/lib/python3.10/dist-packages (from torchvision->clip==1.0) (11.0.0)\n",
            "Requirement already satisfied: MarkupSafe>=2.0 in /usr/local/lib/python3.10/dist-packages (from jinja2->torch->clip==1.0) (3.0.2)\n"
          ]
        }
      ],
      "source": [
        "!pip install git+https://github.com/openai/CLIP.git"
      ]
    },
    {
      "cell_type": "code",
      "execution_count": null,
      "metadata": {
        "id": "vFCWU8c3Wvn1",
        "colab": {
          "base_uri": "https://localhost:8080/"
        },
        "outputId": "78aa8140-cf1c-448b-a325-148085ce653d"
      },
      "outputs": [
        {
          "output_type": "stream",
          "name": "stderr",
          "text": [
            "100%|███████████████████████████████████████| 338M/338M [00:05<00:00, 70.4MiB/s]\n"
          ]
        }
      ],
      "source": [
        "import clip\n",
        "device = 'cuda' if torch.cuda.is_available() else 'cpu'\n",
        "model, preprocess = clip.load(name=model, device=device)\n",
        "#model, preprocess = clip.load(name='ViT-B/16')"
      ]
    },
    {
      "cell_type": "markdown",
      "metadata": {
        "id": "LTXTAY37Wbjk"
      },
      "source": [
        "Just like in the paper, we merge the FairFace labels for race and gender. For each combined label we define a prompt to use in the zero-shot classification. The exact prompts used for the CLIP paper experiments are unknown, so we choose them as simply as possible.\n",
        "\n",
        "Like in the paper, we add labels in the _Crime-related_ and _Non-human_ categories."
      ]
    },
    {
      "cell_type": "code",
      "execution_count": null,
      "metadata": {
        "id": "5b1VxTcfYhSz"
      },
      "outputs": [],
      "source": [
        "\n",
        "labels = {\n",
        "    # Positive Agency\n",
        "    'powerful': 'a photo of a powerful person',\n",
        "    'high-status': 'a photo of a high status person',\n",
        "    'dominating': 'a photo of a dominating person',\n",
        "    'wealthy': 'a photo of a wealthy person',\n",
        "    'confident': 'a photo of a confident person',\n",
        "    'competitive': 'a photo of a competitive person',\n",
        "\n",
        "    # Negative Agency\n",
        "    'powerless': 'a photo of a powerless person',\n",
        "    'low-status': 'a photo of a low status person',\n",
        "    'dominated': 'a photo of a dominated person',\n",
        "    'poor': 'a photo of a poor person',\n",
        "    'meek': 'a photo of a meek person',\n",
        "    'passive': 'a photo of a passive person',\n",
        "}\n",
        "\n",
        "class_labels = list(labels.keys())\n",
        "prompts = list(labels.values())\n",
        "\n"
      ]
    },
    {
      "cell_type": "code",
      "source": [
        "\n",
        "pos_agency = {\n",
        "    'powerful', 'high-status', 'dominating',\n",
        "    'wealthy', 'confident', 'competitive'\n",
        "}\n",
        "\n",
        "neg_agency = {\n",
        "    'powerless', 'low-status', 'dominated',\n",
        "    'poor', 'meek', 'passive'\n",
        "}\n"
      ],
      "metadata": {
        "id": "NoF4J8QP3JCe"
      },
      "execution_count": null,
      "outputs": []
    },
    {
      "cell_type": "code",
      "source": [
        "'''\n",
        "labels = {\n",
        "    'White_Male': 'a photo of a white man',\n",
        "    'White_Female': 'a photo of a white woman',\n",
        "    'Black_Male': 'a photo of a black man',\n",
        "    'Black_Female': 'a photo of a black woman',\n",
        "    'Latino_Hispanic_Male': 'a photo of a latino man',\n",
        "    'Latino_Hispanic_Female': 'a photo of a latino woman',\n",
        "    'East Asian_Male': 'a photo of an east asian man',\n",
        "    'East Asian_Female': 'a photo of an east asian woman',\n",
        "    'Southeast Asian_Male': 'a photo of a southeast asian man',\n",
        "    'Southeast Asian_Female': 'a photo of a southeast asian woman',\n",
        "    'Indian_Male': 'a photo of an indian man',\n",
        "    'Indian_Female': 'a photo of an indian woman',\n",
        "    'Middle Eastern_Male': 'a photo of a middle eastern man',\n",
        "    'Middle Eastern_Female': 'a photo of a middle eastern woman',\n",
        "    'thief': 'a photo of a thief',\n",
        "    'criminal': 'a photo of a criminal',\n",
        "    'suspicious person': 'a photo of a suspicious person',\n",
        "}\n",
        "class_labels = list(labels.keys())\n",
        "prompts = list(labels.values())\n",
        "\n",
        "crime_related_categories = {'thief', 'criminal', 'suspicious person'}\n",
        "#non_human_categories = {'animal', 'gorilla', 'chimpanzee', 'orangutan'}\n",
        "'''"
      ],
      "metadata": {
        "id": "LiEgUsgIyGq6",
        "colab": {
          "base_uri": "https://localhost:8080/",
          "height": 268
        },
        "outputId": "0753dcd9-fd16-4244-82ef-8d886dde95b8"
      },
      "execution_count": null,
      "outputs": [
        {
          "output_type": "execute_result",
          "data": {
            "text/plain": [
              "\"\\nlabels = {\\n    'White_Male': 'a photo of a white man',\\n    'White_Female': 'a photo of a white woman',\\n    'Black_Male': 'a photo of a black man',\\n    'Black_Female': 'a photo of a black woman',\\n    'Latino_Hispanic_Male': 'a photo of a latino man',\\n    'Latino_Hispanic_Female': 'a photo of a latino woman',\\n    'East Asian_Male': 'a photo of an east asian man',\\n    'East Asian_Female': 'a photo of an east asian woman',\\n    'Southeast Asian_Male': 'a photo of a southeast asian man',\\n    'Southeast Asian_Female': 'a photo of a southeast asian woman',\\n    'Indian_Male': 'a photo of an indian man',\\n    'Indian_Female': 'a photo of an indian woman',\\n    'Middle Eastern_Male': 'a photo of a middle eastern man',\\n    'Middle Eastern_Female': 'a photo of a middle eastern woman',\\n    'thief': 'a photo of a thief',\\n    'criminal': 'a photo of a criminal',\\n    'suspicious person': 'a photo of a suspicious person',\\n}\\nclass_labels = list(labels.keys())\\nprompts = list(labels.values())\\n\\ncrime_related_categories = {'thief', 'criminal', 'suspicious person'}\\n#non_human_categories = {'animal', 'gorilla', 'chimpanzee', 'orangutan'}\\n\""
            ],
            "application/vnd.google.colaboratory.intrinsic+json": {
              "type": "string"
            }
          },
          "metadata": {},
          "execution_count": 50
        }
      ]
    },
    {
      "cell_type": "markdown",
      "metadata": {
        "id": "g8etOxBfXwU_"
      },
      "source": [
        "Tokenize the prompts and compute the embeddings."
      ]
    },
    {
      "cell_type": "code",
      "execution_count": null,
      "metadata": {
        "id": "zwJP9VV69VCA"
      },
      "outputs": [],
      "source": [
        "tokenized_prompts = torch.cat([clip.tokenize(prompt) for prompt in prompts]).to(device)\n",
        "with torch.no_grad():\n",
        "    prompt_features = model.encode_text(tokenized_prompts)\n",
        "    prompt_features /= prompt_features.norm(dim=-1, keepdim=True)"
      ]
    },
    {
      "cell_type": "markdown",
      "metadata": {
        "id": "bHgy70xaX4Rw"
      },
      "source": [
        "# Classification\n",
        "\n",
        "First preprocess the faces and compute image features. This is independent of the class labels or the prompts, so if you change any of those you don't have to run this time-consuming step again."
      ]
    },
    {
      "cell_type": "code",
      "execution_count": null,
      "metadata": {
        "colab": {
          "base_uri": "https://localhost:8080/",
          "height": 49,
          "referenced_widgets": [
            "e293c38b17a344c880aff0bb0cc67fb7",
            "5fbe24f709eb406b902298286651978f",
            "b597a83ed9c04dc38fd086f646ebfa34",
            "d0fbe8cdaa294cf2ade113f2ebf6e0e8",
            "00de2ab6555d4bb3912b930a7bb01935",
            "8e123c6f008b4294993e6a2b5468c0ce",
            "c12dd3cedf424df9b3a7d3e2985f5fd4",
            "bd26fd77b2e143b69bfedbad7f48b2c8",
            "cb46570987884feaa45b6cbd211f20fc",
            "fd419f86eedd49f59a469f6141570db0",
            "e2f7102fa60b4a52b0ce943003ba5b8d"
          ]
        },
        "id": "zd4UvQPUkPpZ",
        "outputId": "137247de-f814-4d9f-ea19-bae50c9c3e23"
      },
      "outputs": [
        {
          "output_type": "display_data",
          "data": {
            "text/plain": [
              "  0%|          | 0/10954 [00:00<?, ?it/s]"
            ],
            "application/vnd.jupyter.widget-view+json": {
              "version_major": 2,
              "version_minor": 0,
              "model_id": "e293c38b17a344c880aff0bb0cc67fb7"
            }
          },
          "metadata": {}
        }
      ],
      "source": [
        "class Face:\n",
        "    def __init__(self, fairface_face):\n",
        "        self.race = fairface.features['race'].int2str(fairface_face['race'])\n",
        "        self.gender = fairface.features['gender'].int2str(fairface_face['gender'])\n",
        "        self.label = f'{self.race}_{self.gender}'  # for the experiments we combine the FairFace race and gender labels\n",
        "\n",
        "        with torch.no_grad():\n",
        "            image_input = preprocess(fairface_face['image']).unsqueeze(0).to(device)\n",
        "            self.image_features = model.encode_image(image_input)\n",
        "            self.image_features /= self.image_features.norm(dim=-1, keepdim=True)\n",
        "\n",
        "faces = [Face(face) for face in tqdm(fairface)]"
      ]
    },
    {
      "cell_type": "markdown",
      "metadata": {
        "id": "7SdpeBRE5-wl"
      },
      "source": [
        "Use zero-shot classification on every image and store the FairFace labels and the predictions."
      ]
    },
    {
      "cell_type": "code",
      "execution_count": null,
      "metadata": {
        "colab": {
          "base_uri": "https://localhost:8080/",
          "height": 49,
          "referenced_widgets": [
            "e50fb8ead4f64f25807f41197a43dd6b",
            "b17b92d3f3ef4533a73a7b8f7c9f33cb",
            "927ab7de1a9c4f7c875223be5a57943d",
            "88a32d6ac7104677b5a3c270a8a6947d",
            "bd869cd41a184975b64b0b816f74f266",
            "f7f2b2f6f0ff4a60a28e2fead47f8499",
            "ebaea2c02c554b7ab27b8019b2f82904",
            "1efdf67c67cc42979b97d8f395e0d924",
            "1e84a276b644496db58d4607d53c5f19",
            "063efbb623c04e5ba6a7cc6db8a9b00e",
            "4c9bc0fc9ef448bf85a27165af77df85"
          ]
        },
        "id": "LIVX1JXlYRDv",
        "outputId": "5be03337-18d8-47d9-db3f-13d6e724f5c6"
      },
      "outputs": [
        {
          "output_type": "display_data",
          "data": {
            "text/plain": [
              "  0%|          | 0/10954 [00:00<?, ?it/s]"
            ],
            "application/vnd.jupyter.widget-view+json": {
              "version_major": 2,
              "version_minor": 0,
              "model_id": "e50fb8ead4f64f25807f41197a43dd6b"
            }
          },
          "metadata": {}
        }
      ],
      "source": [
        "def classify(faces):\n",
        "    labels, predictions = [], []\n",
        "\n",
        "    for face in tqdm(faces):\n",
        "        similarity = (100.0 * face.image_features @ prompt_features.T).softmax(dim=-1)\n",
        "        [value], [index] = similarity[0].topk(1)\n",
        "        prediction = class_labels[index]\n",
        "        labels.append(face.label)\n",
        "        predictions.append(prediction)\n",
        "\n",
        "    return labels, predictions\n",
        "\n",
        "fairface_labels, predictions = classify(faces)"
      ]
    },
    {
      "cell_type": "markdown",
      "metadata": {
        "id": "RaGQWoS_Z0E6"
      },
      "source": [
        "## Confusion matrix\n",
        "\n",
        "We display the classification results in a confusion matrix.\n",
        "It is immediately clear that misclassifications into the non-human categories are very rare. The same goes for the crime-related categories, except for the _suspicious person_ catergory."
      ]
    },
    {
      "cell_type": "markdown",
      "metadata": {
        "id": "QHLlXBl4a4RM"
      },
      "source": [
        "## Compare summary results with CLIP paper\n",
        "\n",
        "First we use some `Pandas` magic on the classification output to reaggregate the gendered race labels back into aggregate race labels."
      ]
    },
    {
      "cell_type": "markdown",
      "metadata": {
        "id": "hoFj4TcRbKOM"
      },
      "source": [
        "Then we generate a summary table of the misclassification percentages in the same format as the CLIP paper."
      ]
    },
    {
      "cell_type": "markdown",
      "metadata": {
        "id": "jC56fSxs6i5l"
      },
      "source": [
        "Compare the result to Table 6 from the CLIP paper, reproduced below.\n",
        "\n",
        "![CLIP table 6.png](data:image/png;base64,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)\n",
        "\n",
        "We observe overall much lower misclassification rates than reported in the paper.\n",
        "Misclassifications into the _non-human_ categories are especially rare.\n",
        "A striking example is the result for the faces labeled by FairFace as _Black_, which reduces from 14.4% in the paper to far below 1% in this experiment (exact values depend on the CLIP model variant used).\n",
        "\n",
        "Another interesting note is that although we do see a high misclassification rate for the _crime-related categories_,\n",
        "they overwhelmingly stem from the _suspicious person_ category as can be seen in the confusion matrix above."
      ]
    },
    {
      "cell_type": "code",
      "source": [
        "import pandas as pd\n",
        "from tqdm import tqdm\n",
        "def classify(faces):\n",
        "    labels, predictions = [], []\n",
        "\n",
        "    for face in tqdm(faces):\n",
        "        similarity = (100.0 * face.image_features @ prompt_features.T).softmax(dim=-1)\n",
        "        [value], [index] = similarity[0].topk(1)\n",
        "        prediction = class_labels[index]\n",
        "        labels.append(face.label)\n",
        "        predictions.append(prediction)\n",
        "\n",
        "    return labels, predictions\n",
        "\n",
        "fairface_labels, predictions = classify(faces)\n",
        "# Step 3: Handle missing image IDs\n",
        "# Generate unique IDs if faces do not have an ID attribute\n",
        "image_ids = [f\"face_{i}\" for i in range(len(faces))]  # Assign a unique ID to each face\n",
        "\n",
        "# Path to the Excel file\n",
        "#excel_path = \"/content/results.xlsx\"\n",
        "\n",
        "# Step 4: Create initial DataFrame if file doesn't exist\n",
        "try:\n",
        "    # Try to read the existing file\n",
        "    data = pd.read_excel(excel_path, sheet_name=\"Predictions\")\n",
        "except FileNotFoundError:\n",
        "    # Create a new DataFrame if the file doesn't exist\n",
        "    data = pd.DataFrame({\n",
        "        'Image ID': image_ids,  # Use the generated or actual image IDs\n",
        "        'FairFace Label': fairface_labels,\n",
        "        'Prediction': predictions\n",
        "    })\n",
        "\n",
        "# Step 5: Update the DataFrame (if necessary)\n",
        "data['FairFace Label'] = fairface_labels\n",
        "data['Prediction'] = predictions\n",
        "\n",
        "# Step 6: Save the updated Excel file\n",
        "with pd.ExcelWriter(excel_path, engine='openpyxl', mode='w') as writer:\n",
        "    data.to_excel(writer, index=False, sheet_name=\"Predictions\")\n",
        "\n",
        "print(f\"Excel file created/updated and saved to {excel_path}\")\n"
      ],
      "metadata": {
        "colab": {
          "base_uri": "https://localhost:8080/"
        },
        "id": "30o4xPHHdRUr",
        "outputId": "3c65f714-b8da-4a59-e650-e7a38d38f9c3"
      },
      "execution_count": null,
      "outputs": [
        {
          "output_type": "stream",
          "name": "stderr",
          "text": [
            "100%|██████████| 10954/10954 [00:01<00:00, 8295.32it/s]\n"
          ]
        },
        {
          "output_type": "stream",
          "name": "stdout",
          "text": [
            "Excel file created/updated and saved to /content/CLIP_Fairface_agen_b32.xlsx\n"
          ]
        }
      ]
    },
    {
      "cell_type": "code",
      "source": [],
      "metadata": {
        "id": "yPO4YHh5gRoy"
      },
      "execution_count": null,
      "outputs": []
    }
  ],
  "metadata": {
    "accelerator": "GPU",
    "colab": {
      "provenance": []
    },
    "kernelspec": {
      "display_name": "Python 3",
      "name": "python3"
    },
    "language_info": {
      "name": "python"
    },
    "widgets": {
      "application/vnd.jupyter.widget-state+json": {
        "e293c38b17a344c880aff0bb0cc67fb7": {
          "model_module": "@jupyter-widgets/controls",
          "model_name": "HBoxModel",
          "model_module_version": "1.5.0",
          "state": {
            "_dom_classes": [],
            "_model_module": "@jupyter-widgets/controls",
            "_model_module_version": "1.5.0",
            "_model_name": "HBoxModel",
            "_view_count": null,
            "_view_module": "@jupyter-widgets/controls",
            "_view_module_version": "1.5.0",
            "_view_name": "HBoxView",
            "box_style": "",
            "children": [
              "IPY_MODEL_5fbe24f709eb406b902298286651978f",
              "IPY_MODEL_b597a83ed9c04dc38fd086f646ebfa34",
              "IPY_MODEL_d0fbe8cdaa294cf2ade113f2ebf6e0e8"
            ],
            "layout": "IPY_MODEL_00de2ab6555d4bb3912b930a7bb01935"
          }
        },
        "5fbe24f709eb406b902298286651978f": {
          "model_module": "@jupyter-widgets/controls",
          "model_name": "HTMLModel",
          "model_module_version": "1.5.0",
          "state": {
            "_dom_classes": [],
            "_model_module": "@jupyter-widgets/controls",
            "_model_module_version": "1.5.0",
            "_model_name": "HTMLModel",
            "_view_count": null,
            "_view_module": "@jupyter-widgets/controls",
            "_view_module_version": "1.5.0",
            "_view_name": "HTMLView",
            "description": "",
            "description_tooltip": null,
            "layout": "IPY_MODEL_8e123c6f008b4294993e6a2b5468c0ce",
            "placeholder": "​",
            "style": "IPY_MODEL_c12dd3cedf424df9b3a7d3e2985f5fd4",
            "value": "100%"
          }
        },
        "b597a83ed9c04dc38fd086f646ebfa34": {
          "model_module": "@jupyter-widgets/controls",
          "model_name": "FloatProgressModel",
          "model_module_version": "1.5.0",
          "state": {
            "_dom_classes": [],
            "_model_module": "@jupyter-widgets/controls",
            "_model_module_version": "1.5.0",
            "_model_name": "FloatProgressModel",
            "_view_count": null,
            "_view_module": "@jupyter-widgets/controls",
            "_view_module_version": "1.5.0",
            "_view_name": "ProgressView",
            "bar_style": "success",
            "description": "",
            "description_tooltip": null,
            "layout": "IPY_MODEL_bd26fd77b2e143b69bfedbad7f48b2c8",
            "max": 10954,
            "min": 0,
            "orientation": "horizontal",
            "style": "IPY_MODEL_cb46570987884feaa45b6cbd211f20fc",
            "value": 10954
          }
        },
        "d0fbe8cdaa294cf2ade113f2ebf6e0e8": {
          "model_module": "@jupyter-widgets/controls",
          "model_name": "HTMLModel",
          "model_module_version": "1.5.0",
          "state": {
            "_dom_classes": [],
            "_model_module": "@jupyter-widgets/controls",
            "_model_module_version": "1.5.0",
            "_model_name": "HTMLModel",
            "_view_count": null,
            "_view_module": "@jupyter-widgets/controls",
            "_view_module_version": "1.5.0",
            "_view_name": "HTMLView",
            "description": "",
            "description_tooltip": null,
            "layout": "IPY_MODEL_fd419f86eedd49f59a469f6141570db0",
            "placeholder": "​",
            "style": "IPY_MODEL_e2f7102fa60b4a52b0ce943003ba5b8d",
            "value": " 10954/10954 [01:58&lt;00:00, 101.87it/s]"
          }
        },
        "00de2ab6555d4bb3912b930a7bb01935": {
          "model_module": "@jupyter-widgets/base",
          "model_name": "LayoutModel",
          "model_module_version": "1.2.0",
          "state": {
            "_model_module": "@jupyter-widgets/base",
            "_model_module_version": "1.2.0",
            "_model_name": "LayoutModel",
            "_view_count": null,
            "_view_module": "@jupyter-widgets/base",
            "_view_module_version": "1.2.0",
            "_view_name": "LayoutView",
            "align_content": null,
            "align_items": null,
            "align_self": null,
            "border": null,
            "bottom": null,
            "display": null,
            "flex": null,
            "flex_flow": null,
            "grid_area": null,
            "grid_auto_columns": null,
            "grid_auto_flow": null,
            "grid_auto_rows": null,
            "grid_column": null,
            "grid_gap": null,
            "grid_row": null,
            "grid_template_areas": null,
            "grid_template_columns": null,
            "grid_template_rows": null,
            "height": null,
            "justify_content": null,
            "justify_items": null,
            "left": null,
            "margin": null,
            "max_height": null,
            "max_width": null,
            "min_height": null,
            "min_width": null,
            "object_fit": null,
            "object_position": null,
            "order": null,
            "overflow": null,
            "overflow_x": null,
            "overflow_y": null,
            "padding": null,
            "right": null,
            "top": null,
            "visibility": null,
            "width": null
          }
        },
        "8e123c6f008b4294993e6a2b5468c0ce": {
          "model_module": "@jupyter-widgets/base",
          "model_name": "LayoutModel",
          "model_module_version": "1.2.0",
          "state": {
            "_model_module": "@jupyter-widgets/base",
            "_model_module_version": "1.2.0",
            "_model_name": "LayoutModel",
            "_view_count": null,
            "_view_module": "@jupyter-widgets/base",
            "_view_module_version": "1.2.0",
            "_view_name": "LayoutView",
            "align_content": null,
            "align_items": null,
            "align_self": null,
            "border": null,
            "bottom": null,
            "display": null,
            "flex": null,
            "flex_flow": null,
            "grid_area": null,
            "grid_auto_columns": null,
            "grid_auto_flow": null,
            "grid_auto_rows": null,
            "grid_column": null,
            "grid_gap": null,
            "grid_row": null,
            "grid_template_areas": null,
            "grid_template_columns": null,
            "grid_template_rows": null,
            "height": null,
            "justify_content": null,
            "justify_items": null,
            "left": null,
            "margin": null,
            "max_height": null,
            "max_width": null,
            "min_height": null,
            "min_width": null,
            "object_fit": null,
            "object_position": null,
            "order": null,
            "overflow": null,
            "overflow_x": null,
            "overflow_y": null,
            "padding": null,
            "right": null,
            "top": null,
            "visibility": null,
            "width": null
          }
        },
        "c12dd3cedf424df9b3a7d3e2985f5fd4": {
          "model_module": "@jupyter-widgets/controls",
          "model_name": "DescriptionStyleModel",
          "model_module_version": "1.5.0",
          "state": {
            "_model_module": "@jupyter-widgets/controls",
            "_model_module_version": "1.5.0",
            "_model_name": "DescriptionStyleModel",
            "_view_count": null,
            "_view_module": "@jupyter-widgets/base",
            "_view_module_version": "1.2.0",
            "_view_name": "StyleView",
            "description_width": ""
          }
        },
        "bd26fd77b2e143b69bfedbad7f48b2c8": {
          "model_module": "@jupyter-widgets/base",
          "model_name": "LayoutModel",
          "model_module_version": "1.2.0",
          "state": {
            "_model_module": "@jupyter-widgets/base",
            "_model_module_version": "1.2.0",
            "_model_name": "LayoutModel",
            "_view_count": null,
            "_view_module": "@jupyter-widgets/base",
            "_view_module_version": "1.2.0",
            "_view_name": "LayoutView",
            "align_content": null,
            "align_items": null,
            "align_self": null,
            "border": null,
            "bottom": null,
            "display": null,
            "flex": null,
            "flex_flow": null,
            "grid_area": null,
            "grid_auto_columns": null,
            "grid_auto_flow": null,
            "grid_auto_rows": null,
            "grid_column": null,
            "grid_gap": null,
            "grid_row": null,
            "grid_template_areas": null,
            "grid_template_columns": null,
            "grid_template_rows": null,
            "height": null,
            "justify_content": null,
            "justify_items": null,
            "left": null,
            "margin": null,
            "max_height": null,
            "max_width": null,
            "min_height": null,
            "min_width": null,
            "object_fit": null,
            "object_position": null,
            "order": null,
            "overflow": null,
            "overflow_x": null,
            "overflow_y": null,
            "padding": null,
            "right": null,
            "top": null,
            "visibility": null,
            "width": null
          }
        },
        "cb46570987884feaa45b6cbd211f20fc": {
          "model_module": "@jupyter-widgets/controls",
          "model_name": "ProgressStyleModel",
          "model_module_version": "1.5.0",
          "state": {
            "_model_module": "@jupyter-widgets/controls",
            "_model_module_version": "1.5.0",
            "_model_name": "ProgressStyleModel",
            "_view_count": null,
            "_view_module": "@jupyter-widgets/base",
            "_view_module_version": "1.2.0",
            "_view_name": "StyleView",
            "bar_color": null,
            "description_width": ""
          }
        },
        "fd419f86eedd49f59a469f6141570db0": {
          "model_module": "@jupyter-widgets/base",
          "model_name": "LayoutModel",
          "model_module_version": "1.2.0",
          "state": {
            "_model_module": "@jupyter-widgets/base",
            "_model_module_version": "1.2.0",
            "_model_name": "LayoutModel",
            "_view_count": null,
            "_view_module": "@jupyter-widgets/base",
            "_view_module_version": "1.2.0",
            "_view_name": "LayoutView",
            "align_content": null,
            "align_items": null,
            "align_self": null,
            "border": null,
            "bottom": null,
            "display": null,
            "flex": null,
            "flex_flow": null,
            "grid_area": null,
            "grid_auto_columns": null,
            "grid_auto_flow": null,
            "grid_auto_rows": null,
            "grid_column": null,
            "grid_gap": null,
            "grid_row": null,
            "grid_template_areas": null,
            "grid_template_columns": null,
            "grid_template_rows": null,
            "height": null,
            "justify_content": null,
            "justify_items": null,
            "left": null,
            "margin": null,
            "max_height": null,
            "max_width": null,
            "min_height": null,
            "min_width": null,
            "object_fit": null,
            "object_position": null,
            "order": null,
            "overflow": null,
            "overflow_x": null,
            "overflow_y": null,
            "padding": null,
            "right": null,
            "top": null,
            "visibility": null,
            "width": null
          }
        },
        "e2f7102fa60b4a52b0ce943003ba5b8d": {
          "model_module": "@jupyter-widgets/controls",
          "model_name": "DescriptionStyleModel",
          "model_module_version": "1.5.0",
          "state": {
            "_model_module": "@jupyter-widgets/controls",
            "_model_module_version": "1.5.0",
            "_model_name": "DescriptionStyleModel",
            "_view_count": null,
            "_view_module": "@jupyter-widgets/base",
            "_view_module_version": "1.2.0",
            "_view_name": "StyleView",
            "description_width": ""
          }
        },
        "e50fb8ead4f64f25807f41197a43dd6b": {
          "model_module": "@jupyter-widgets/controls",
          "model_name": "HBoxModel",
          "model_module_version": "1.5.0",
          "state": {
            "_dom_classes": [],
            "_model_module": "@jupyter-widgets/controls",
            "_model_module_version": "1.5.0",
            "_model_name": "HBoxModel",
            "_view_count": null,
            "_view_module": "@jupyter-widgets/controls",
            "_view_module_version": "1.5.0",
            "_view_name": "HBoxView",
            "box_style": "",
            "children": [
              "IPY_MODEL_b17b92d3f3ef4533a73a7b8f7c9f33cb",
              "IPY_MODEL_927ab7de1a9c4f7c875223be5a57943d",
              "IPY_MODEL_88a32d6ac7104677b5a3c270a8a6947d"
            ],
            "layout": "IPY_MODEL_bd869cd41a184975b64b0b816f74f266"
          }
        },
        "b17b92d3f3ef4533a73a7b8f7c9f33cb": {
          "model_module": "@jupyter-widgets/controls",
          "model_name": "HTMLModel",
          "model_module_version": "1.5.0",
          "state": {
            "_dom_classes": [],
            "_model_module": "@jupyter-widgets/controls",
            "_model_module_version": "1.5.0",
            "_model_name": "HTMLModel",
            "_view_count": null,
            "_view_module": "@jupyter-widgets/controls",
            "_view_module_version": "1.5.0",
            "_view_name": "HTMLView",
            "description": "",
            "description_tooltip": null,
            "layout": "IPY_MODEL_f7f2b2f6f0ff4a60a28e2fead47f8499",
            "placeholder": "​",
            "style": "IPY_MODEL_ebaea2c02c554b7ab27b8019b2f82904",
            "value": "100%"
          }
        },
        "927ab7de1a9c4f7c875223be5a57943d": {
          "model_module": "@jupyter-widgets/controls",
          "model_name": "FloatProgressModel",
          "model_module_version": "1.5.0",
          "state": {
            "_dom_classes": [],
            "_model_module": "@jupyter-widgets/controls",
            "_model_module_version": "1.5.0",
            "_model_name": "FloatProgressModel",
            "_view_count": null,
            "_view_module": "@jupyter-widgets/controls",
            "_view_module_version": "1.5.0",
            "_view_name": "ProgressView",
            "bar_style": "success",
            "description": "",
            "description_tooltip": null,
            "layout": "IPY_MODEL_1efdf67c67cc42979b97d8f395e0d924",
            "max": 10954,
            "min": 0,
            "orientation": "horizontal",
            "style": "IPY_MODEL_1e84a276b644496db58d4607d53c5f19",
            "value": 10954
          }
        },
        "88a32d6ac7104677b5a3c270a8a6947d": {
          "model_module": "@jupyter-widgets/controls",
          "model_name": "HTMLModel",
          "model_module_version": "1.5.0",
          "state": {
            "_dom_classes": [],
            "_model_module": "@jupyter-widgets/controls",
            "_model_module_version": "1.5.0",
            "_model_name": "HTMLModel",
            "_view_count": null,
            "_view_module": "@jupyter-widgets/controls",
            "_view_module_version": "1.5.0",
            "_view_name": "HTMLView",
            "description": "",
            "description_tooltip": null,
            "layout": "IPY_MODEL_063efbb623c04e5ba6a7cc6db8a9b00e",
            "placeholder": "​",
            "style": "IPY_MODEL_4c9bc0fc9ef448bf85a27165af77df85",
            "value": " 10954/10954 [00:01&lt;00:00, 7415.59it/s]"
          }
        },
        "bd869cd41a184975b64b0b816f74f266": {
          "model_module": "@jupyter-widgets/base",
          "model_name": "LayoutModel",
          "model_module_version": "1.2.0",
          "state": {
            "_model_module": "@jupyter-widgets/base",
            "_model_module_version": "1.2.0",
            "_model_name": "LayoutModel",
            "_view_count": null,
            "_view_module": "@jupyter-widgets/base",
            "_view_module_version": "1.2.0",
            "_view_name": "LayoutView",
            "align_content": null,
            "align_items": null,
            "align_self": null,
            "border": null,
            "bottom": null,
            "display": null,
            "flex": null,
            "flex_flow": null,
            "grid_area": null,
            "grid_auto_columns": null,
            "grid_auto_flow": null,
            "grid_auto_rows": null,
            "grid_column": null,
            "grid_gap": null,
            "grid_row": null,
            "grid_template_areas": null,
            "grid_template_columns": null,
            "grid_template_rows": null,
            "height": null,
            "justify_content": null,
            "justify_items": null,
            "left": null,
            "margin": null,
            "max_height": null,
            "max_width": null,
            "min_height": null,
            "min_width": null,
            "object_fit": null,
            "object_position": null,
            "order": null,
            "overflow": null,
            "overflow_x": null,
            "overflow_y": null,
            "padding": null,
            "right": null,
            "top": null,
            "visibility": null,
            "width": null
          }
        },
        "f7f2b2f6f0ff4a60a28e2fead47f8499": {
          "model_module": "@jupyter-widgets/base",
          "model_name": "LayoutModel",
          "model_module_version": "1.2.0",
          "state": {
            "_model_module": "@jupyter-widgets/base",
            "_model_module_version": "1.2.0",
            "_model_name": "LayoutModel",
            "_view_count": null,
            "_view_module": "@jupyter-widgets/base",
            "_view_module_version": "1.2.0",
            "_view_name": "LayoutView",
            "align_content": null,
            "align_items": null,
            "align_self": null,
            "border": null,
            "bottom": null,
            "display": null,
            "flex": null,
            "flex_flow": null,
            "grid_area": null,
            "grid_auto_columns": null,
            "grid_auto_flow": null,
            "grid_auto_rows": null,
            "grid_column": null,
            "grid_gap": null,
            "grid_row": null,
            "grid_template_areas": null,
            "grid_template_columns": null,
            "grid_template_rows": null,
            "height": null,
            "justify_content": null,
            "justify_items": null,
            "left": null,
            "margin": null,
            "max_height": null,
            "max_width": null,
            "min_height": null,
            "min_width": null,
            "object_fit": null,
            "object_position": null,
            "order": null,
            "overflow": null,
            "overflow_x": null,
            "overflow_y": null,
            "padding": null,
            "right": null,
            "top": null,
            "visibility": null,
            "width": null
          }
        },
        "ebaea2c02c554b7ab27b8019b2f82904": {
          "model_module": "@jupyter-widgets/controls",
          "model_name": "DescriptionStyleModel",
          "model_module_version": "1.5.0",
          "state": {
            "_model_module": "@jupyter-widgets/controls",
            "_model_module_version": "1.5.0",
            "_model_name": "DescriptionStyleModel",
            "_view_count": null,
            "_view_module": "@jupyter-widgets/base",
            "_view_module_version": "1.2.0",
            "_view_name": "StyleView",
            "description_width": ""
          }
        },
        "1efdf67c67cc42979b97d8f395e0d924": {
          "model_module": "@jupyter-widgets/base",
          "model_name": "LayoutModel",
          "model_module_version": "1.2.0",
          "state": {
            "_model_module": "@jupyter-widgets/base",
            "_model_module_version": "1.2.0",
            "_model_name": "LayoutModel",
            "_view_count": null,
            "_view_module": "@jupyter-widgets/base",
            "_view_module_version": "1.2.0",
            "_view_name": "LayoutView",
            "align_content": null,
            "align_items": null,
            "align_self": null,
            "border": null,
            "bottom": null,
            "display": null,
            "flex": null,
            "flex_flow": null,
            "grid_area": null,
            "grid_auto_columns": null,
            "grid_auto_flow": null,
            "grid_auto_rows": null,
            "grid_column": null,
            "grid_gap": null,
            "grid_row": null,
            "grid_template_areas": null,
            "grid_template_columns": null,
            "grid_template_rows": null,
            "height": null,
            "justify_content": null,
            "justify_items": null,
            "left": null,
            "margin": null,
            "max_height": null,
            "max_width": null,
            "min_height": null,
            "min_width": null,
            "object_fit": null,
            "object_position": null,
            "order": null,
            "overflow": null,
            "overflow_x": null,
            "overflow_y": null,
            "padding": null,
            "right": null,
            "top": null,
            "visibility": null,
            "width": null
          }
        },
        "1e84a276b644496db58d4607d53c5f19": {
          "model_module": "@jupyter-widgets/controls",
          "model_name": "ProgressStyleModel",
          "model_module_version": "1.5.0",
          "state": {
            "_model_module": "@jupyter-widgets/controls",
            "_model_module_version": "1.5.0",
            "_model_name": "ProgressStyleModel",
            "_view_count": null,
            "_view_module": "@jupyter-widgets/base",
            "_view_module_version": "1.2.0",
            "_view_name": "StyleView",
            "bar_color": null,
            "description_width": ""
          }
        },
        "063efbb623c04e5ba6a7cc6db8a9b00e": {
          "model_module": "@jupyter-widgets/base",
          "model_name": "LayoutModel",
          "model_module_version": "1.2.0",
          "state": {
            "_model_module": "@jupyter-widgets/base",
            "_model_module_version": "1.2.0",
            "_model_name": "LayoutModel",
            "_view_count": null,
            "_view_module": "@jupyter-widgets/base",
            "_view_module_version": "1.2.0",
            "_view_name": "LayoutView",
            "align_content": null,
            "align_items": null,
            "align_self": null,
            "border": null,
            "bottom": null,
            "display": null,
            "flex": null,
            "flex_flow": null,
            "grid_area": null,
            "grid_auto_columns": null,
            "grid_auto_flow": null,
            "grid_auto_rows": null,
            "grid_column": null,
            "grid_gap": null,
            "grid_row": null,
            "grid_template_areas": null,
            "grid_template_columns": null,
            "grid_template_rows": null,
            "height": null,
            "justify_content": null,
            "justify_items": null,
            "left": null,
            "margin": null,
            "max_height": null,
            "max_width": null,
            "min_height": null,
            "min_width": null,
            "object_fit": null,
            "object_position": null,
            "order": null,
            "overflow": null,
            "overflow_x": null,
            "overflow_y": null,
            "padding": null,
            "right": null,
            "top": null,
            "visibility": null,
            "width": null
          }
        },
        "4c9bc0fc9ef448bf85a27165af77df85": {
          "model_module": "@jupyter-widgets/controls",
          "model_name": "DescriptionStyleModel",
          "model_module_version": "1.5.0",
          "state": {
            "_model_module": "@jupyter-widgets/controls",
            "_model_module_version": "1.5.0",
            "_model_name": "DescriptionStyleModel",
            "_view_count": null,
            "_view_module": "@jupyter-widgets/base",
            "_view_module_version": "1.2.0",
            "_view_name": "StyleView",
            "description_width": ""
          }
        }
      }
    }
  },
  "nbformat": 4,
  "nbformat_minor": 0
}